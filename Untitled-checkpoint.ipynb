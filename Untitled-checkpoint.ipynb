{
 "cells": [
  {
   "cell_type": "code",
   "execution_count": null,
   "metadata": {},
   "outputs": [],
   "source": [
    "import plotly.graph_objs as go\n",
    "from plotly.offline import init_notebook_mode, iplot\n",
    "import pandas as pd\n",
    "\n",
    "init_notebook_mode()\n",
    "\n",
    "\n",
    "my_dict = {\n",
    "    'name': [\"a\", \"a\", \"c\", \"c\", \"c\", \"f\", \"g\"],\n",
    "    'age': [C, D, E, F, G, H, I],\n",
    "    'score': [33, 11, 9, 12, 44, 15, 25]\n",
    "}\n",
    "\n",
    "df = pd.DataFrame(my_dict)\n",
    "\n",
    "fig = go.Figure()\n",
    "names = []\n",
    "for name, name_df in df.groupby('name'):\n",
    "    names.append(name)\n",
    "    fig.add_scatter(x=name_df.score,\n",
    "                    y=name_df.age,\n",
    "                    mode='markers',\n",
    "                    name=name,\n",
    "                    showlegend=False,\n",
    "                    visible=name == 'a')\n",
    "    \n",
    "    \n",
    "buttons = []\n",
    "for i, name in enumerate(names):\n",
    "    visible = [False]*len(names)\n",
    "    visible[i] = True\n",
    "    buttons.append(\n",
    "        dict(\n",
    "            method='restyle',\n",
    "            args=[{'visible': visible}],\n",
    "            label=name\n",
    "        ))\n",
    "\n",
    "\n",
    "fig.layout = go.Layout(\n",
    "    xaxis=dict(\n",
    "        range=[df.score.min() - 1, df.score.max() + 1]\n",
    "    ),\n",
    "    yaxis=dict(\n",
    "        range=[df.age.min() - 1, df.age.max() + 1]\n",
    "    ),\n",
    "    updatemenus=list([\n",
    "        dict(\n",
    "            x=-0.05,\n",
    "            y=1,\n",
    "            buttons=buttons,\n",
    "            yanchor='top'\n",
    "        )\n",
    "    ]),\n",
    ")\n",
    "iplot(fig)"
   ]
  },
  {
   "cell_type": "code",
   "execution_count": null,
   "metadata": {},
   "outputs": [],
   "source": []
  }
 ],
 "metadata": {
  "kernelspec": {
   "display_name": "Python 3",
   "language": "python",
   "name": "python3"
  },
  "language_info": {
   "codemirror_mode": {
    "name": "ipython",
    "version": 3
   },
   "file_extension": ".py",
   "mimetype": "text/x-python",
   "name": "python",
   "nbconvert_exporter": "python",
   "pygments_lexer": "ipython3",
   "version": "3.7.1"
  }
 },
 "nbformat": 4,
 "nbformat_minor": 2
}
